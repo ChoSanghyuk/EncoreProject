{
 "cells": [
  {
   "cell_type": "code",
   "execution_count": 1,
   "metadata": {},
   "outputs": [],
   "source": [
    "import pandas as pd"
   ]
  },
  {
   "cell_type": "code",
   "execution_count": 2,
   "metadata": {},
   "outputs": [
    {
     "name": "stderr",
     "output_type": "stream",
     "text": [
      "C:\\Users\\Playdata\\anaconda3\\envs\\choi\\lib\\site-packages\\IPython\\core\\interactiveshell.py:3072: DtypeWarning: Columns (18,54,55,56,63,64,65,77,84,85,89,91,93) have mixed types.Specify dtype option on import or set low_memory=False.\n",
      "  interactivity=interactivity, compiler=compiler, result=result)\n"
     ]
    }
   ],
   "source": [
    "input_file_name = 'C:/Users/Playdata/Downloads/eml_parse.csv'\n",
    "eml = pd.read_csv(input_file_name, encoding= 'utf8')"
   ]
  },
  {
   "cell_type": "code",
   "execution_count": 3,
   "metadata": {
    "scrolled": true
   },
   "outputs": [
    {
     "data": {
      "text/html": [
       "<div>\n",
       "<style scoped>\n",
       "    .dataframe tbody tr th:only-of-type {\n",
       "        vertical-align: middle;\n",
       "    }\n",
       "\n",
       "    .dataframe tbody tr th {\n",
       "        vertical-align: top;\n",
       "    }\n",
       "\n",
       "    .dataframe thead th {\n",
       "        text-align: right;\n",
       "    }\n",
       "</style>\n",
       "<table border=\"1\" class=\"dataframe\">\n",
       "  <thead>\n",
       "    <tr style=\"text-align: right;\">\n",
       "      <th></th>\n",
       "      <th>file_name</th>\n",
       "      <th>MAIL_FROM</th>\n",
       "      <th>ORG_RCPT_TO</th>\n",
       "      <th>RCPT_TO</th>\n",
       "      <th>X-SPAM-TYPE</th>\n",
       "      <th>X-HELO</th>\n",
       "      <th>X-RECEIVED-IP</th>\n",
       "      <th>Received</th>\n",
       "      <th>X-MAIL-FROM</th>\n",
       "      <th>Message-ID</th>\n",
       "      <th>...</th>\n",
       "      <th>X-EN-SP-DIR</th>\n",
       "      <th>X-EN-SP-SQ</th>\n",
       "      <th>X-Accounttype</th>\n",
       "      <th>Mime-version</th>\n",
       "      <th>content-transfer-encoding</th>\n",
       "      <th>X-MS-TNEF-Correlator</th>\n",
       "      <th>text_without_tag</th>\n",
       "      <th>text_with_tag</th>\n",
       "      <th>include_url</th>\n",
       "      <th>num_of_imgs</th>\n",
       "    </tr>\n",
       "  </thead>\n",
       "  <tbody>\n",
       "    <tr>\n",
       "      <th>0</th>\n",
       "      <td>059faa80-e6d3-47ff-8a45-edf0fba4e398.eml</td>\n",
       "      <td>juyoung@gmail.com</td>\n",
       "      <td>yunhan11@windows4unix.net</td>\n",
       "      <td>yunhan11@windows4unix.net</td>\n",
       "      <td>SPAM</td>\n",
       "      <td>helo 73.132.221.32</td>\n",
       "      <td>221.228.237.146</td>\n",
       "      <td>from [102.48.236.154] by 73.132.221.32 id &lt;954...</td>\n",
       "      <td>juyoung@gmail.com</td>\n",
       "      <td>&lt;l-$9342-$wxg3r73@1klb14lt57y&gt;</td>\n",
       "      <td>...</td>\n",
       "      <td>NaN</td>\n",
       "      <td>NaN</td>\n",
       "      <td>NaN</td>\n",
       "      <td>NaN</td>\n",
       "      <td>NaN</td>\n",
       "      <td>NaN</td>\n",
       "      <td>Content-Type: text/html;\\nContent-Transfer-Enc...</td>\n",
       "      <td>Content-Type: text/html;\\nContent-Transfer-Enc...</td>\n",
       "      <td>0</td>\n",
       "      <td>0</td>\n",
       "    </tr>\n",
       "    <tr>\n",
       "      <th>1</th>\n",
       "      <td>059fd5ff-a546-4924-a6e9-a14f3bba805d.eml</td>\n",
       "      <td>suminy@outlook.kr</td>\n",
       "      <td>lgeman@dcmark.co.kr</td>\n",
       "      <td>lgeman@dcmark.co.kr</td>\n",
       "      <td>SPAM</td>\n",
       "      <td>helo 73.132.221.32</td>\n",
       "      <td>218.201.185.157</td>\n",
       "      <td>from [167.139.250.4] by 73.132.221.32 with ESM...</td>\n",
       "      <td>suminy@outlook.kr</td>\n",
       "      <td>&lt;91yo0559041-z67@u8or7&gt;</td>\n",
       "      <td>...</td>\n",
       "      <td>NaN</td>\n",
       "      <td>NaN</td>\n",
       "      <td>NaN</td>\n",
       "      <td>NaN</td>\n",
       "      <td>NaN</td>\n",
       "      <td>NaN</td>\n",
       "      <td>Content-Type: text/html;\\nContent-Transfer-Enc...</td>\n",
       "      <td>Content-Type: text/html;\\nContent-Transfer-Enc...</td>\n",
       "      <td>0</td>\n",
       "      <td>0</td>\n",
       "    </tr>\n",
       "    <tr>\n",
       "      <th>2</th>\n",
       "      <td>059fd98b-68f8-4722-8870-9671abfda544.eml</td>\n",
       "      <td>jisun@nate.com</td>\n",
       "      <td>jongchoo@meti.co.kr</td>\n",
       "      <td>jongchoo@meti.co.kr</td>\n",
       "      <td>SPAM</td>\n",
       "      <td>helo 73.132.221.32</td>\n",
       "      <td>180.167.196.58</td>\n",
       "      <td>from [211.204.37.3] by 73.132.221.32 with ESMT...</td>\n",
       "      <td>jisun@nate.com</td>\n",
       "      <td>&lt;6$146$hq5oa018-kuc207kv@j3s.4.k.dgc&gt;</td>\n",
       "      <td>...</td>\n",
       "      <td>NaN</td>\n",
       "      <td>NaN</td>\n",
       "      <td>NaN</td>\n",
       "      <td>NaN</td>\n",
       "      <td>NaN</td>\n",
       "      <td>NaN</td>\n",
       "      <td>Content-Type: text/html;\\nContent-Transfer-Enc...</td>\n",
       "      <td>Content-Type: text/html;\\nContent-Transfer-Enc...</td>\n",
       "      <td>0</td>\n",
       "      <td>0</td>\n",
       "    </tr>\n",
       "    <tr>\n",
       "      <th>3</th>\n",
       "      <td>059ffd38-f893-46ff-b65d-2f70da33dd90.eml</td>\n",
       "      <td>yenjuy@outlook.kr</td>\n",
       "      <td>tmdemhoy@dcmark.co.kr</td>\n",
       "      <td>tmdemhoy@dcmark.co.kr</td>\n",
       "      <td>SPAM</td>\n",
       "      <td>helo 73.132.221.32</td>\n",
       "      <td>122.97.133.171</td>\n",
       "      <td>from [208.206.157.152] by 73.132.221.32 with E...</td>\n",
       "      <td>yenjuy@outlook.kr</td>\n",
       "      <td>&lt;f895$8$vvp51c869a5-$x9-s4@zqf.pb7w&gt;</td>\n",
       "      <td>...</td>\n",
       "      <td>NaN</td>\n",
       "      <td>NaN</td>\n",
       "      <td>NaN</td>\n",
       "      <td>NaN</td>\n",
       "      <td>NaN</td>\n",
       "      <td>NaN</td>\n",
       "      <td>Content-Type: text/html;\\nContent-Transfer-Enc...</td>\n",
       "      <td>Content-Type: text/html;\\nContent-Transfer-Enc...</td>\n",
       "      <td>0</td>\n",
       "      <td>0</td>\n",
       "    </tr>\n",
       "    <tr>\n",
       "      <th>4</th>\n",
       "      <td>059ffe9c-b1a7-4b57-8174-8b0afe03366e.eml</td>\n",
       "      <td>noah@ajne.com</td>\n",
       "      <td>icon7447@skysilver.net</td>\n",
       "      <td>icon7447@skysilver.net</td>\n",
       "      <td>SPAM</td>\n",
       "      <td>ehlo ajne.com</td>\n",
       "      <td>42.248.200.68</td>\n",
       "      <td>from localhost ([127.0.0.1]) by localhost via ...</td>\n",
       "      <td>noah@ajne.com</td>\n",
       "      <td>&lt;908A126CDA88BEF0D5EFDCB52CB5F03DCC16D3E1@YGLI...</td>\n",
       "      <td>...</td>\n",
       "      <td>NaN</td>\n",
       "      <td>NaN</td>\n",
       "      <td>NaN</td>\n",
       "      <td>NaN</td>\n",
       "      <td>NaN</td>\n",
       "      <td>NaN</td>\n",
       "      <td>This message contained an attachment that was ...</td>\n",
       "      <td>This message contained an attachment that was ...</td>\n",
       "      <td>0</td>\n",
       "      <td>0</td>\n",
       "    </tr>\n",
       "  </tbody>\n",
       "</table>\n",
       "<p>5 rows × 99 columns</p>\n",
       "</div>"
      ],
      "text/plain": [
       "                                  file_name          MAIL_FROM  \\\n",
       "0  059faa80-e6d3-47ff-8a45-edf0fba4e398.eml  juyoung@gmail.com   \n",
       "1  059fd5ff-a546-4924-a6e9-a14f3bba805d.eml  suminy@outlook.kr   \n",
       "2  059fd98b-68f8-4722-8870-9671abfda544.eml     jisun@nate.com   \n",
       "3  059ffd38-f893-46ff-b65d-2f70da33dd90.eml  yenjuy@outlook.kr   \n",
       "4  059ffe9c-b1a7-4b57-8174-8b0afe03366e.eml      noah@ajne.com   \n",
       "\n",
       "                 ORG_RCPT_TO                    RCPT_TO X-SPAM-TYPE  \\\n",
       "0  yunhan11@windows4unix.net  yunhan11@windows4unix.net        SPAM   \n",
       "1        lgeman@dcmark.co.kr        lgeman@dcmark.co.kr        SPAM   \n",
       "2        jongchoo@meti.co.kr        jongchoo@meti.co.kr        SPAM   \n",
       "3      tmdemhoy@dcmark.co.kr      tmdemhoy@dcmark.co.kr        SPAM   \n",
       "4     icon7447@skysilver.net     icon7447@skysilver.net        SPAM   \n",
       "\n",
       "               X-HELO    X-RECEIVED-IP  \\\n",
       "0  helo 73.132.221.32  221.228.237.146   \n",
       "1  helo 73.132.221.32  218.201.185.157   \n",
       "2  helo 73.132.221.32   180.167.196.58   \n",
       "3  helo 73.132.221.32   122.97.133.171   \n",
       "4       ehlo ajne.com    42.248.200.68   \n",
       "\n",
       "                                            Received        X-MAIL-FROM  \\\n",
       "0  from [102.48.236.154] by 73.132.221.32 id <954...  juyoung@gmail.com   \n",
       "1  from [167.139.250.4] by 73.132.221.32 with ESM...  suminy@outlook.kr   \n",
       "2  from [211.204.37.3] by 73.132.221.32 with ESMT...     jisun@nate.com   \n",
       "3  from [208.206.157.152] by 73.132.221.32 with E...  yenjuy@outlook.kr   \n",
       "4  from localhost ([127.0.0.1]) by localhost via ...      noah@ajne.com   \n",
       "\n",
       "                                          Message-ID  ... X-EN-SP-DIR  \\\n",
       "0                     <l-$9342-$wxg3r73@1klb14lt57y>  ...         NaN   \n",
       "1                            <91yo0559041-z67@u8or7>  ...         NaN   \n",
       "2              <6$146$hq5oa018-kuc207kv@j3s.4.k.dgc>  ...         NaN   \n",
       "3               <f895$8$vvp51c869a5-$x9-s4@zqf.pb7w>  ...         NaN   \n",
       "4  <908A126CDA88BEF0D5EFDCB52CB5F03DCC16D3E1@YGLI...  ...         NaN   \n",
       "\n",
       "  X-EN-SP-SQ X-Accounttype Mime-version content-transfer-encoding  \\\n",
       "0        NaN           NaN          NaN                       NaN   \n",
       "1        NaN           NaN          NaN                       NaN   \n",
       "2        NaN           NaN          NaN                       NaN   \n",
       "3        NaN           NaN          NaN                       NaN   \n",
       "4        NaN           NaN          NaN                       NaN   \n",
       "\n",
       "  X-MS-TNEF-Correlator                                   text_without_tag  \\\n",
       "0                  NaN  Content-Type: text/html;\\nContent-Transfer-Enc...   \n",
       "1                  NaN  Content-Type: text/html;\\nContent-Transfer-Enc...   \n",
       "2                  NaN  Content-Type: text/html;\\nContent-Transfer-Enc...   \n",
       "3                  NaN  Content-Type: text/html;\\nContent-Transfer-Enc...   \n",
       "4                  NaN  This message contained an attachment that was ...   \n",
       "\n",
       "                                       text_with_tag include_url num_of_imgs  \n",
       "0  Content-Type: text/html;\\nContent-Transfer-Enc...           0           0  \n",
       "1  Content-Type: text/html;\\nContent-Transfer-Enc...           0           0  \n",
       "2  Content-Type: text/html;\\nContent-Transfer-Enc...           0           0  \n",
       "3  Content-Type: text/html;\\nContent-Transfer-Enc...           0           0  \n",
       "4  This message contained an attachment that was ...           0           0  \n",
       "\n",
       "[5 rows x 99 columns]"
      ]
     },
     "execution_count": 3,
     "metadata": {},
     "output_type": "execute_result"
    }
   ],
   "source": [
    "eml.head()"
   ]
  },
  {
   "cell_type": "code",
   "execution_count": 17,
   "metadata": {},
   "outputs": [
    {
     "data": {
      "text/plain": [
       "0         Content-Type: text/html;\\nContent-Transfer-Enc...\n",
       "1         Content-Type: text/html;\\nContent-Transfer-Enc...\n",
       "2         Content-Type: text/html;\\nContent-Transfer-Enc...\n",
       "3         Content-Type: text/html;\\nContent-Transfer-Enc...\n",
       "4         This message contained an attachment that was ...\n",
       "                                ...                        \n",
       "710435    This message contained an attachment that was ...\n",
       "710436    Content-Type: text/html;\\nContent-Transfer-Enc...\n",
       "710437    ﾟ5Lﾍ囲に住ﾅDﾝの週_ACe\\n^CvIﾝ定いﾜ\\n\\nCyﾉ出いﾂ \\n[1nﾟ]IX...\n",
       "710438    This message contained an attachment that was ...\n",
       "710439    Content-Type: text/html;\\nContent-Transfer-Enc...\n",
       "Name: text_without_tag, Length: 710440, dtype: object"
      ]
     },
     "execution_count": 17,
     "metadata": {},
     "output_type": "execute_result"
    }
   ],
   "source": [
    "eml['text_without_tag']"
   ]
  },
  {
   "cell_type": "code",
   "execution_count": 4,
   "metadata": {},
   "outputs": [],
   "source": [
    "news_df = pd.DataFrame({'document':eml['text_without_tag']})"
   ]
  },
  {
   "cell_type": "code",
   "execution_count": 54,
   "metadata": {},
   "outputs": [
    {
     "data": {
      "text/plain": [
       "0         Content-Type: text/html;\\nContent-Transfer-Enc...\n",
       "1         Content-Type: text/html;\\nContent-Transfer-Enc...\n",
       "2         Content-Type: text/html;\\nContent-Transfer-Enc...\n",
       "3         Content-Type: text/html;\\nContent-Transfer-Enc...\n",
       "4         This message contained an attachment that was ...\n",
       "                                ...                        \n",
       "710435    This message contained an attachment that was ...\n",
       "710436    Content-Type: text/html;\\nContent-Transfer-Enc...\n",
       "710437    ﾟ5Lﾍ囲に住ﾅDﾝの週_ACe\\n^CvIﾝ定いﾜ\\n\\nCyﾉ出いﾂ \\n[1nﾟ]IX...\n",
       "710438    This message contained an attachment that was ...\n",
       "710439    Content-Type: text/html;\\nContent-Transfer-Enc...\n",
       "Name: document, Length: 710440, dtype: object"
      ]
     },
     "execution_count": 54,
     "metadata": {},
     "output_type": "execute_result"
    }
   ],
   "source": [
    "news_df['document']"
   ]
  },
  {
   "cell_type": "code",
   "execution_count": null,
   "metadata": {},
   "outputs": [],
   "source": [
    "!pip install langid"
   ]
  },
  {
   "cell_type": "code",
   "execution_count": 50,
   "metadata": {},
   "outputs": [],
   "source": [
    "import langid\n",
    "\n",
    "error_document = []\n",
    "\n",
    "for i in range(0, 50000) :\n",
    "    try :\n",
    "        news_df['lang'][i] = langid.classify(news_df['document'][i])[0]\n",
    "    except :\n",
    "        error_document.append(i)"
   ]
  },
  {
   "cell_type": "code",
   "execution_count": 53,
   "metadata": {},
   "outputs": [
    {
     "data": {
      "text/plain": [
       "ko    32078\n",
       "de     6180\n",
       "en     6126\n",
       "ja     3455\n",
       "qu      614\n",
       "Name: lang, dtype: int64"
      ]
     },
     "execution_count": 53,
     "metadata": {},
     "output_type": "execute_result"
    }
   ],
   "source": [
    "news_df['lang'][0:50000].value_counts().head()"
   ]
  },
  {
   "cell_type": "code",
   "execution_count": null,
   "metadata": {},
   "outputs": [],
   "source": []
  }
 ],
 "metadata": {
  "kernelspec": {
   "display_name": "Python 3",
   "language": "python",
   "name": "python3"
  },
  "language_info": {
   "codemirror_mode": {
    "name": "ipython",
    "version": 3
   },
   "file_extension": ".py",
   "mimetype": "text/x-python",
   "name": "python",
   "nbconvert_exporter": "python",
   "pygments_lexer": "ipython3",
   "version": "3.7.7"
  }
 },
 "nbformat": 4,
 "nbformat_minor": 4
}
