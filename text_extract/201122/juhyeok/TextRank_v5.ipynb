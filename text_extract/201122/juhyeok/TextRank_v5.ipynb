{
 "cells": [
  {
   "cell_type": "code",
   "execution_count": 1,
   "metadata": {
    "colab": {
     "base_uri": "https://localhost:8080/",
     "height": 352
    },
    "executionInfo": {
     "elapsed": 619,
     "status": "error",
     "timestamp": 1605800691585,
     "user": {
      "displayName": "주혁",
      "photoUrl": "https://lh3.googleusercontent.com/-W5vvr1jhZfM/AAAAAAAAAAI/AAAAAAAAFPc/a6PcOi7gmY4/s64/photo.jpg",
      "userId": "14940108871655369312"
     },
     "user_tz": -540
    },
    "id": "Lj2H3dWEGFSO",
    "outputId": "8d2547c0-00fc-4bc8-d600-d80bf4aacd19"
   },
   "outputs": [],
   "source": [
    "import json\n",
    "import re"
   ]
  },
  {
   "cell_type": "code",
   "execution_count": 22,
   "metadata": {
    "executionInfo": {
     "elapsed": 1778,
     "status": "ok",
     "timestamp": 1605799618488,
     "user": {
      "displayName": "주혁",
      "photoUrl": "https://lh3.googleusercontent.com/-W5vvr1jhZfM/AAAAAAAAAAI/AAAAAAAAFPc/a6PcOi7gmY4/s64/photo.jpg",
      "userId": "14940108871655369312"
     },
     "user_tz": -540
    },
    "id": "nXHw1QW1GFSO"
   },
   "outputs": [],
   "source": [
    "data=[]\n",
    "# for line in open('C:/Users/MoonJu/Documents/분석 프로젝트/Document summary/extractive_test_v2.jsonl', 'r', encoding='utf-8'):\n",
    "#     data.append(json.loads(line))\n",
    "\n",
    "# for line in open('C:/Users/Playdata/Downloads/extractive_test_v2.jsonl', 'r', encoding='utf-8'):\n",
    "#     data.append(json.loads(line))\n",
    "\n",
    "for line in open('D:/BigData/document_extraction_data/extractive_test_v2.jsonl', 'r', encoding='utf-8'):\n",
    "    data.append(json.loads(line))\n",
    "\n",
    "# for line in open('/content/gdrive/My Drive/빅데이터/문서 추출요약/extractive_test_v2.jsonl', 'r', encoding='utf-8'):\n",
    "#     data.append(json.loads(line))"
   ]
  },
  {
   "cell_type": "code",
   "execution_count": 23,
   "metadata": {
    "executionInfo": {
     "elapsed": 734,
     "status": "ok",
     "timestamp": 1605799625657,
     "user": {
      "displayName": "주혁",
      "photoUrl": "https://lh3.googleusercontent.com/-W5vvr1jhZfM/AAAAAAAAAAI/AAAAAAAAFPc/a6PcOi7gmY4/s64/photo.jpg",
      "userId": "14940108871655369312"
     },
     "user_tz": -540
    },
    "id": "I_NEe8eoGFSO"
   },
   "outputs": [],
   "source": [
    "# 전처리\n",
    "def CleanText(readData, Num=False, Eng=False):\n",
    "# 번역 추가 해볼것\n",
    "# 이메일\n",
    "    text = re.sub('[^가-힣ㄱ-ㅎㅏ-ㅣ ]+', '', readData)\n",
    "\n",
    "    return text.strip(' ')"
   ]
  },
  {
   "cell_type": "code",
   "execution_count": 24,
   "metadata": {
    "executionInfo": {
     "elapsed": 1504,
     "status": "ok",
     "timestamp": 1605799692279,
     "user": {
      "displayName": "주혁",
      "photoUrl": "https://lh3.googleusercontent.com/-W5vvr1jhZfM/AAAAAAAAAAI/AAAAAAAAFPc/a6PcOi7gmY4/s64/photo.jpg",
      "userId": "14940108871655369312"
     },
     "user_tz": -540
    },
    "id": "e-rssimfGFSO"
   },
   "outputs": [],
   "source": [
    "# 사용할 데이터 정리\n",
    "clean_article = []\n",
    "ori_article = []\n",
    "id_list = []\n",
    "for i in range(len(data)):\n",
    "    s1 = []\n",
    "    s2 = []\n",
    "    id_list.append(data[i]['id'])\n",
    "    for j in range(len(data[i]['article_original'])):\n",
    "        s1.append(data[i]['article_original'][j])\n",
    "        s2.append(CleanText(data[i]['article_original'][j]))\n",
    "    ori_article.append(s1)\n",
    "    clean_article.append(s2)"
   ]
  },
  {
   "cell_type": "code",
   "execution_count": 25,
   "metadata": {},
   "outputs": [
    {
     "data": {
      "text/plain": [
       "['석문간척지 임차법인협의회가 한국농어촌공사 당진지사 앞에 공공비축벼 을 쌓아두고 시위를 벌이고 있다',\n",
       " '석문간척지 임차법인협의회이하 간척지협의회가 농림축산식품부의 부당한 간척지 임대료 책정에 반발하며 지난달 일 한국농어촌공사 당진지사 앞에 공공비축벼 을 쌓고 시위를 벌였다',\n",
       " '개 영농조합법인이 소속된 간척지협의회는 이번 벼 야적 시위를 통해 현재 당 원으로 책정된 임대료를 현재 쌀 판매가격인 원대로 인하할 것을 요구하고 있다',\n",
       " '이들은 지난 월 일 농림축산식품부에 탄원서를 제출했지만 임대료 인하는 올해 이후에나 가능하다고 통보받은 상황이다',\n",
       " '게다가 임차법인들의 계약기간이 올해 만료되기 때문에 임대료를 인하해도 지난 년 동안의 손실 보상은 받을 수 없는 상황이다',\n",
       " '이에 간척지협의회는 계약기간을 년 연장하고 연장된 기간 동안 인하된 임대료를 적용해 지난 년 간의 손실에 대해 보상할 것을 제안했다',\n",
       " '더불어 요구사항이 받아들여지지 않을 경우 벼 야적시위를 시작한 날짜인 지난해 월 일자로 임대료를 벼로 납부하겠다는 입장이다',\n",
       " '김재용 봉치영농조합법인 조합원은 현재 한국농어촌공사의 답변을 기다리고 있다며 상황을 지켜본 뒤 추가적인 야적 시위 여부를 결정할 계획이라고 말했다',\n",
       " '이어 법을 만들고 집행할 때 현실성 있게 만들어야 한다며 농민이 정부를 믿을 수 있도록 조속히 해결책을 마련해주길 바란다고 덧붙였다']"
      ]
     },
     "execution_count": 25,
     "metadata": {},
     "output_type": "execute_result"
    }
   ],
   "source": [
    "clean_article[0]"
   ]
  },
  {
   "cell_type": "code",
   "execution_count": 45,
   "metadata": {
    "colab": {
     "base_uri": "https://localhost:8080/",
     "height": 388
    },
    "executionInfo": {
     "elapsed": 1153,
     "status": "error",
     "timestamp": 1605799732560,
     "user": {
      "displayName": "주혁",
      "photoUrl": "https://lh3.googleusercontent.com/-W5vvr1jhZfM/AAAAAAAAAAI/AAAAAAAAFPc/a6PcOi7gmY4/s64/photo.jpg",
      "userId": "14940108871655369312"
     },
     "user_tz": -540
    },
    "id": "HdGBFpcZGFSO",
    "outputId": "6a04419d-c874-4099-acb6-a29ff54066d1"
   },
   "outputs": [
    {
     "ename": "TypeError",
     "evalue": "__init__() got an unexpected keyword argument 'window'",
     "output_type": "error",
     "traceback": [
      "\u001b[1;31m---------------------------------------------------------------------------\u001b[0m",
      "\u001b[1;31mTypeError\u001b[0m                                 Traceback (most recent call last)",
      "\u001b[1;32m<ipython-input-45-bdf10e128627>\u001b[0m in \u001b[0;36m<module>\u001b[1;34m\u001b[0m\n\u001b[0;32m     22\u001b[0m \u001b[1;31m#     similarity = 'cosine',\u001b[0m\u001b[1;33m\u001b[0m\u001b[1;33m\u001b[0m\u001b[1;33m\u001b[0m\u001b[0m\n\u001b[0;32m     23\u001b[0m     \u001b[0mwindow\u001b[0m\u001b[1;33m=\u001b[0m\u001b[1;36m2\u001b[0m\u001b[1;33m,\u001b[0m\u001b[1;33m\u001b[0m\u001b[1;33m\u001b[0m\u001b[0m\n\u001b[1;32m---> 24\u001b[1;33m     \u001b[0mverbose\u001b[0m \u001b[1;33m=\u001b[0m \u001b[1;32mTrue\u001b[0m\u001b[1;33m\u001b[0m\u001b[1;33m\u001b[0m\u001b[0m\n\u001b[0m\u001b[0;32m     25\u001b[0m )\n\u001b[0;32m     26\u001b[0m \u001b[1;33m\u001b[0m\u001b[0m\n",
      "\u001b[1;31mTypeError\u001b[0m: __init__() got an unexpected keyword argument 'window'"
     ]
    }
   ],
   "source": [
    "from typing import List\n",
    "import numpy as np\n",
    "from sklearn.preprocessing import normalize\n",
    "from textrank import KeysentenceSummarizer\n",
    "from konlpy.tag import Komoran, Kkma, Okt, Mecab\n",
    "\n",
    "kkma = Kkma()\n",
    "komoran = Komoran()\n",
    "okt = Okt()\n",
    "# mecab = Mecab()\n",
    "\n",
    "def komoran_tokenizer(sent):\n",
    "    words = kkma.pos(sent, join=True) #textrank 에서는 명사, 동사, 형용사만 사용 +어간\n",
    "    words = [w for w in words if ('/NN' in w or '/XR' in w or '/VA' in w or '/VV' in w)] # komoran\n",
    "#     words = [w for w in words if ('/NP' in w or '/NN' in w or '/XR' in w or '/VA' in w or '/VV')] # kkma\n",
    "    return words\n",
    "\n",
    "summarizer = KeysentenceSummarizer(\n",
    "#     tokenize = lambda x:x.split(),\n",
    "    tokenize = komoran_tokenizer,\n",
    "    min_sim = 0.3,\n",
    "#     similarity = 'cosine',\n",
    "    window=2,\n",
    "    verbose = True\n",
    ")\n",
    "\n",
    "idx_list = []\n",
    "for sents in clean_article:\n",
    "#     print(sents)\n",
    "    keysents = summarizer.summarize(sents, topk=3)\n",
    "    idx = []\n",
    "    for sent_idx, rank, sent in keysents:\n",
    "        idx.append(sent_idx)\n",
    "    idx_list.append(idx)"
   ]
  },
  {
   "cell_type": "code",
   "execution_count": 37,
   "metadata": {
    "id": "oEkLbl2zGFSO"
   },
   "outputs": [],
   "source": [
    "result = []\n",
    "for i in range(len(idx_list)) :\n",
    "    ori_str = []\n",
    "    for j in range(3) :\n",
    "        ori_str.append(ori_article[i][idx_list[i][j]])\n",
    "    result.append('\\n'.join(ori_str))"
   ]
  },
  {
   "cell_type": "code",
   "execution_count": 38,
   "metadata": {},
   "outputs": [
    {
     "data": {
      "text/plain": [
       "9987"
      ]
     },
     "execution_count": 38,
     "metadata": {},
     "output_type": "execute_result"
    }
   ],
   "source": [
    "len(idx_list)"
   ]
  },
  {
   "cell_type": "code",
   "execution_count": 39,
   "metadata": {
    "id": "sI52iNoNGFSO"
   },
   "outputs": [],
   "source": [
    "import pandas as pd\n",
    "result = pd.DataFrame(\n",
    "                {'id' : id_list,\n",
    "                 'summary' : result},\n",
    "                )"
   ]
  },
  {
   "cell_type": "code",
   "execution_count": 42,
   "metadata": {
    "id": "ASOhGOPnGFSO",
    "outputId": "78c9fc99-2f29-4a09-9b53-a8b3bd2c4b2a"
   },
   "outputs": [
    {
     "data": {
      "text/html": [
       "<div>\n",
       "<style scoped>\n",
       "    .dataframe tbody tr th:only-of-type {\n",
       "        vertical-align: middle;\n",
       "    }\n",
       "\n",
       "    .dataframe tbody tr th {\n",
       "        vertical-align: top;\n",
       "    }\n",
       "\n",
       "    .dataframe thead th {\n",
       "        text-align: right;\n",
       "    }\n",
       "</style>\n",
       "<table border=\"1\" class=\"dataframe\">\n",
       "  <thead>\n",
       "    <tr style=\"text-align: right;\">\n",
       "      <th></th>\n",
       "      <th>id</th>\n",
       "      <th>summary</th>\n",
       "    </tr>\n",
       "  </thead>\n",
       "  <tbody>\n",
       "    <tr>\n",
       "      <th>0</th>\n",
       "      <td>500733466</td>\n",
       "      <td>43개 영농조합법인이 소속된 간척지협의회는 이번 벼 야적 시위를 통해 현재 1kg당...</td>\n",
       "    </tr>\n",
       "    <tr>\n",
       "      <th>1</th>\n",
       "      <td>500742482</td>\n",
       "      <td>벌떼해장국의 주 메뉴는 뼈해장국과 감자탕이다.\\n또한 벌떼해장국의 추천 메뉴는 콩나...</td>\n",
       "    </tr>\n",
       "    <tr>\n",
       "      <th>2</th>\n",
       "      <td>500742484</td>\n",
       "      <td>반면 면천면 휘발유 평균 가격은 1478원으로 가장 낮았으며, 경유는 정미면이 평균...</td>\n",
       "    </tr>\n",
       "    <tr>\n",
       "      <th>3</th>\n",
       "      <td>504213810</td>\n",
       "      <td>이에 대해 어기구 의원은 “제12차 장기 천연가스수급계획에는 제5기지를 2020년부...</td>\n",
       "    </tr>\n",
       "    <tr>\n",
       "      <th>4</th>\n",
       "      <td>505279620</td>\n",
       "      <td>정책자문위원으로 활동하고 있는 A씨는 “연 1회 전체회의를 진행하는데 회의시간이 짧...</td>\n",
       "    </tr>\n",
       "    <tr>\n",
       "      <th>...</th>\n",
       "      <td>...</td>\n",
       "      <td>...</td>\n",
       "    </tr>\n",
       "    <tr>\n",
       "      <th>9982</th>\n",
       "      <td>745338220</td>\n",
       "      <td>당초 시는 도시재생 중구 내항 1부두 일대가 국가시범지구로 선정되면 국비 250억 ...</td>\n",
       "    </tr>\n",
       "    <tr>\n",
       "      <th>9983</th>\n",
       "      <td>745367988</td>\n",
       "      <td>청와대 핵심 관계자는 이날 기자들과 만나 선거사범 267명의 복권이 이뤄진 것과 관...</td>\n",
       "    </tr>\n",
       "    <tr>\n",
       "      <th>9984</th>\n",
       "      <td>745368130</td>\n",
       "      <td>광주 감소율은 지난해 9월 -18.2%에 이어 14개월 만에 가장 큰 폭을 나타냈다...</td>\n",
       "    </tr>\n",
       "    <tr>\n",
       "      <th>9985</th>\n",
       "      <td>745368136</td>\n",
       "      <td>향후 활용 방안을 모색 중인 헌책방은 다행히 앞으로도 책과 커피, 강연, 문화행사 ...</td>\n",
       "    </tr>\n",
       "    <tr>\n",
       "      <th>9986</th>\n",
       "      <td>745368284</td>\n",
       "      <td>협약에 따라 현대차그룹은 자체 개발한 렌터카 통합관리시스템 ‘모션 스마트 솔루션’과...</td>\n",
       "    </tr>\n",
       "  </tbody>\n",
       "</table>\n",
       "<p>9987 rows × 2 columns</p>\n",
       "</div>"
      ],
      "text/plain": [
       "             id                                            summary\n",
       "0     500733466  43개 영농조합법인이 소속된 간척지협의회는 이번 벼 야적 시위를 통해 현재 1kg당...\n",
       "1     500742482  벌떼해장국의 주 메뉴는 뼈해장국과 감자탕이다.\\n또한 벌떼해장국의 추천 메뉴는 콩나...\n",
       "2     500742484  반면 면천면 휘발유 평균 가격은 1478원으로 가장 낮았으며, 경유는 정미면이 평균...\n",
       "3     504213810  이에 대해 어기구 의원은 “제12차 장기 천연가스수급계획에는 제5기지를 2020년부...\n",
       "4     505279620  정책자문위원으로 활동하고 있는 A씨는 “연 1회 전체회의를 진행하는데 회의시간이 짧...\n",
       "...         ...                                                ...\n",
       "9982  745338220  당초 시는 도시재생 중구 내항 1부두 일대가 국가시범지구로 선정되면 국비 250억 ...\n",
       "9983  745367988  청와대 핵심 관계자는 이날 기자들과 만나 선거사범 267명의 복권이 이뤄진 것과 관...\n",
       "9984  745368130  광주 감소율은 지난해 9월 -18.2%에 이어 14개월 만에 가장 큰 폭을 나타냈다...\n",
       "9985  745368136  향후 활용 방안을 모색 중인 헌책방은 다행히 앞으로도 책과 커피, 강연, 문화행사 ...\n",
       "9986  745368284  협약에 따라 현대차그룹은 자체 개발한 렌터카 통합관리시스템 ‘모션 스마트 솔루션’과...\n",
       "\n",
       "[9987 rows x 2 columns]"
      ]
     },
     "execution_count": 42,
     "metadata": {},
     "output_type": "execute_result"
    }
   ],
   "source": [
    "result"
   ]
  },
  {
   "cell_type": "code",
   "execution_count": 41,
   "metadata": {
    "id": "c5DH6W4FGFSO"
   },
   "outputs": [],
   "source": [
    "# 결과 저장\n",
    "# result.to_csv('C:/Users/MoonJu/Documents/분석 프로젝트/Document summary/extractive_submission_7.csv', encoding=\"utf-8\", index=False)\n",
    "result.to_csv('D:/BigData/document_extraction_data/extractive_submission_8.csv', encoding=\"utf-8\", index=False)"
   ]
  },
  {
   "cell_type": "code",
   "execution_count": null,
   "metadata": {
    "id": "A897a53XGFSO"
   },
   "outputs": [],
   "source": [
    "# 6 okt 잘못 됨\n",
    "# similerity 변경\n",
    "# 형태소 분석기 kkma 사용\n",
    "# min_sim 변경\n",
    "# 결과 summary 이상 원본 데이터 안들어감\n",
    "\n",
    "# 전처리에서 번역 한번 시도해 볼것"
   ]
  }
 ],
 "metadata": {
  "colab": {
   "name": "TextRank_v4.ipynb",
   "provenance": []
  },
  "kernelspec": {
   "display_name": "Python 3",
   "language": "python",
   "name": "python3"
  },
  "language_info": {
   "codemirror_mode": {
    "name": "ipython",
    "version": 3
   },
   "file_extension": ".py",
   "mimetype": "text/x-python",
   "name": "python",
   "nbconvert_exporter": "python",
   "pygments_lexer": "ipython3",
   "version": "3.7.9"
  }
 },
 "nbformat": 4,
 "nbformat_minor": 1
}
