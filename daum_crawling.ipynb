{
 "cells": [
  {
   "cell_type": "code",
   "execution_count": 3,
   "metadata": {},
   "outputs": [],
   "source": [
    "from selenium import webdriver\n",
    "import requests\n",
    "from bs4 import BeautifulSoup as bs\n",
    "\n",
    "import pandas as pd\n",
    "import time"
   ]
  },
  {
   "cell_type": "code",
   "execution_count": 29,
   "metadata": {},
   "outputs": [],
   "source": [
    "# page_x_path = '/html/body/article/article/div/article/div/div[2]/div[1]/div[4]/span/span[2]/a['+str(page)+']'\n",
    "viewmore_x_path = '/html/body/div[2]/div[3]/div[2]/div[1]/div[2]/div[6]/div/div/div/div/div[3]/div[2]/button'\n",
    "# like_x_path = \"/html/body/div[2]/div[3]/div[2]/div[1]/div[2]/div[6]/div/div/div/div/div[3]/ul[2]/li[\" +str(k)+ \"]/div/div/span[2]/button[1]/span[2]\"\n",
    "# unlike_x_path = \"/html/body/div[2]/div[3]/div[2]/div[1]/div[2]/div[6]/div/div/div/div/div[3]/ul[2]/li[\" +str(k)+ \"]/div/div/span[2]/button[2]/span[2]\"\n",
    "# content_x_path = '/html/body/div[2]/div[3]/div[2]/div[1]/div[2]/div[6]/div/div/div/div/div[3]/ul[2]/li[' +str(k)+']/div/p'\n",
    "\n",
    "def crawler(query,content_num):\n",
    "    url = 'https://search.daum.net/search?w=news&sort=recency&q='+query+'&cluster=n&DA=STC&dc=STC&pg=1&r=1&p=1&rc=1&at=more&sd=&ed=&period='\n",
    "    web = requests.get(url).content\n",
    "    source = bs(web,\"html.parser\")\n",
    "    f = open('daum_crawling.csv','w',encoding='utf-8')\n",
    "    \n",
    "    page = 1\n",
    "    while True:                                                # 만족하는 댓글수가 될때까지 \n",
    "        for urls in source.find_all('a',{'class':'f_line_b'}): #  현재 페이지에 모든 url 추출\n",
    "#            페이지 넘기기\n",
    "            page += 1\n",
    "            driver.find_element_by_xpath('/html/body/article/article/div/article/div/div[2]/div[1]/div[4]/span/span[2]/a['+str(page)+']').click()   \n",
    "\n",
    "    #         title = urls['target'].text\n",
    "    #         print(title)\n",
    "            # 다음 뉴스 url 추출\n",
    "            if urls['href'][-3:] == 'f=o':                            #  f=o 으로 끝나는 url만 선택 (다음 url 형식)\n",
    "                upload_time = i[-21:-4]                               #   업로드 날짜를 가져옴\n",
    "                daum_url = \"http://news.v.daum.net/v/\" + upload_time  # daum 뉴스 url 형식에 기사 업로드 시간 융합\n",
    "                daum_url_list.append(daum_url)\n",
    "                get_news(upload_time[:8])\n",
    "    f.close()\n",
    "        \n",
    "    "
   ]
  },
  {
   "cell_type": "code",
   "execution_count": 30,
   "metadata": {},
   "outputs": [],
   "source": [
    "crawler('공공의대',1)\n",
    "# print(daum_url_list)"
   ]
  },
  {
   "cell_type": "code",
   "execution_count": null,
   "metadata": {},
   "outputs": [],
   "source": [
    "def get_news(f,daum_url,content_num):\n",
    "    driver = webdriver.Chrome('./chromedriver.exe')\n",
    "    driver.get(daum_url)\n",
    "    time.sleep(3)\n",
    "    \n",
    "    try:\n",
    "    # 더보기 버튼이 없을 때까지 클릭\n",
    "    while driver.find_element_by_xpath(viewmore_x_path).text !='':   \n",
    "           driver.find_element_by_xpath(viewmore_x_path).click()         \n",
    "           time.sleep(3)\n",
    "    except: pass\n",
    "    \n",
    "    check = 1  # 모든 댓글 확인\n",
    "    # 모든 댓글 확인\n",
    "    while driver.find_element_by_xpath('/html/body/div[2]/div[3]/div[2]/div[1]/div[2]/div[6]/div/div/div/div/div[3]/ul[2]/li[' +str(check)+']/div/p').text !='':\n",
    "        \n",
    "        try:\n",
    "            # 좋아요와 싫어요 수에 대한 x_paht 위치\n",
    "            like_num = driver.find_element_by_xpath(\"/html/body/div[2]/div[3]/div[2]/div[1]/div[2]/div[6]/div/div/div/div/div[3]/ul[2]/li[\" +str(check)+ \"]/div/div/span[2]/button[1]/span[2]\").text\n",
    "            unlike_num = driver.find_element_by_xpath(\"/html/body/div[2]/div[3]/div[2]/div[1]/div[2]/div[6]/div/div/div/div/div[3]/ul[2]/li[\" +str(check)+ \"]/div/div/span[2]/button[2]/span[2]\").text\n",
    "\n",
    "            # x_path를 이용해 댓글 추출(좋아요 수가 10개가 넘을 때)\n",
    "            if int(like_num) >= 100:\n",
    "#                 date_list.append(driver.find_element_by_xpath(\"/html/body/div[2]/div[3]/div[1]/div/span/span[2]/span\").text) # 업로드 날짜\n",
    "                title_list.append(driver.find_element_by_xpath(\"/html/body/div[2]/div[3]/div[1]/div/h3\").text)               # 제목\n",
    "                like_list.append(int(like_num)                                                                              # 좋아요\n",
    "                \n",
    "                contents = driver.find_element_by_xpath('/html/body/div[2]/div[3]/div[2]/div[1]/div[2]/div[6]/div/div/div/div/div[3]/ul[2]/li[' +str(k)+']/div/p').text\n",
    "                contents = contents.replace('\\n',\" \")  # 줄 바꿈 무시\n",
    "#                 print(contents)\n",
    "                contents_list.append(contents)\n",
    "                if len(contents_list) == content_num : return\n",
    "                \n",
    "            check += 1\n",
    "\n",
    "        except: pass\n",
    "    time.sleep(3)\n",
    "        "
   ]
  },
  {
   "cell_type": "code",
   "execution_count": null,
   "metadata": {},
   "outputs": [],
   "source": []
  },
  {
   "cell_type": "code",
   "execution_count": 35,
   "metadata": {
    "scrolled": false
   },
   "outputs": [],
   "source": [
    " def crawling(query):\n",
    "        \n",
    "    url = 'https://search.daum.net/search?w=news&sort=recency&q='+query+'&cluster=n&DA=STC&dc=STC&pg=1&r=1&p=1&rc=1&at=more&sd=&ed=&period='\n",
    "    web = requests.get(url).content\n",
    "    source = bs(web,\"html.parser\")\n",
    "    f = open('daum_crawling.csv','w',encoding='utf-8')\n",
    "\n",
    "    date_list = []            # 날짜\n",
    "    all_url_content = []      # 페이지에 있는 모든 뉴스 url 리스트\n",
    "    daum_url_list = []        # 다음뉴스의 url의 리스트\n",
    "    url_num = 10              # 추출할 url 수\n",
    "    page = 1                  # 페이지 넘기기\n",
    "\n",
    "\n",
    "    while len(daum_url_list) < url_num:\n",
    "        print(page)\n",
    "        page += 1\n",
    "        for urls in source.find_all('a',{'class' : 'f_link_b'}):\n",
    "            all_url_content.append(urls['href']) \n",
    "        for i in all_url_content:                                          # 무조건 다음뉴스의 url은 f=o으로 끝남\n",
    "            if i[-3:] == \"f=o\":\n",
    "                upload_time = i[-21:-4]                                     # 기사 업로드 시간만 슬라이싱\n",
    "\n",
    "    #             date = upload_time[:8]                                      # 업로드날짜\n",
    "    #             date_list.append(date)\n",
    "\n",
    "                daum_url = \"http://news.v.daum.net/v/\" + upload_time  # daum 뉴스 url 형식에 기사 업로드 시간 융합\n",
    "                daum_url_list.append(daum_url)\n",
    "                print(daum_url)\n",
    "#         driver.find_element_by_xpath('/html/body/article/article/div/article/div/div[2]/div[1]/div[4]/span/span[2]/a['+str(page)+']').click()\n",
    "\n",
    "    # print(urls_list)"
   ]
  },
  {
   "cell_type": "code",
   "execution_count": 36,
   "metadata": {},
   "outputs": [
    {
     "name": "stdout",
     "output_type": "stream",
     "text": [
      "1\n",
      "http://news.v.daum.net/v/20200921112614532\n",
      "http://news.v.daum.net/v/20200921110328322\n",
      "http://news.v.daum.net/v/20200921091037348\n",
      "2\n",
      "http://news.v.daum.net/v/20200921112614532\n",
      "http://news.v.daum.net/v/20200921110328322\n",
      "http://news.v.daum.net/v/20200921091037348\n",
      "http://news.v.daum.net/v/20200921112614532\n",
      "http://news.v.daum.net/v/20200921110328322\n",
      "http://news.v.daum.net/v/20200921091037348\n",
      "3\n",
      "http://news.v.daum.net/v/20200921112614532\n",
      "http://news.v.daum.net/v/20200921110328322\n",
      "http://news.v.daum.net/v/20200921091037348\n",
      "http://news.v.daum.net/v/20200921112614532\n",
      "http://news.v.daum.net/v/20200921110328322\n",
      "http://news.v.daum.net/v/20200921091037348\n",
      "http://news.v.daum.net/v/20200921112614532\n",
      "http://news.v.daum.net/v/20200921110328322\n",
      "http://news.v.daum.net/v/20200921091037348\n"
     ]
    }
   ],
   "source": [
    "crawling('공공의대')"
   ]
  },
  {
   "cell_type": "code",
   "execution_count": 11,
   "metadata": {},
   "outputs": [
    {
     "name": "stdout",
     "output_type": "stream",
     "text": [
      "['http://news.v.daum.net/v/20200921000250578', 'http://news.v.daum.net/v/20200920221350670', 'http://news.v.daum.net/v/20200921000250578', 'http://news.v.daum.net/v/20200920221350670', 'http://news.v.daum.net/v/20200921000250578', 'http://news.v.daum.net/v/20200920221350670', 'http://news.v.daum.net/v/20200921000250578', 'http://news.v.daum.net/v/20200920221350670', 'http://news.v.daum.net/v/20200921000250578', 'http://news.v.daum.net/v/20200920221350670', 'http://news.v.daum.net/v/20200921000250578', 'http://news.v.daum.net/v/20200920221350670']\n",
      "12\n"
     ]
    }
   ],
   "source": [
    "print(daum_url_list)\n",
    "print(len(daum_url_list))"
   ]
  },
  {
   "cell_type": "code",
   "execution_count": 16,
   "metadata": {},
   "outputs": [
    {
     "name": "stdout",
     "output_type": "stream",
     "text": [
      "https://news.v.daum.net/v/20200921000250578\n",
      "https://news.v.daum.net/v/20200920221350670\n",
      "https://news.v.daum.net/v/20200921000250578\n"
     ]
    }
   ],
   "source": [
    "contents_list = []  # 수집한 댓글 보관 리스트\n",
    "title_list = [] # 제목\n",
    "like_list = [] # 좋아요 수\n",
    "\n",
    "driver = webdriver.Chrome('./chromedriver.exe')\n",
    "for i in range(3): # url 수집\n",
    "    driver.get(daum_url_list[i])\n",
    "    print(driver.current_url)\n",
    "\n",
    "    time.sleep(3)\n",
    "    \n",
    "    try:\n",
    "    # 더보기 버튼이 없을 때까지 클릭\n",
    "        while driver.find_element_by_xpath(viewmore_x_path).text !='':   \n",
    "           driver.find_element_by_xpath(viewmore_x_path).click()         \n",
    "           time.sleep(3)\n",
    "    except: pass\n",
    "\n",
    "    time.sleep(2)\n",
    "\n",
    "    # 최대 댓글 수집 개수 조절 \n",
    "    for k in range(10):\n",
    "        try:\n",
    "            # 좋아요와 싫어요 수에 대한 x_paht 위치\n",
    "            like_num = driver.find_element_by_xpath(like_x_path).text\n",
    "            unlike_num = driver.find_element_by_xpath(unlike_x_path).text\n",
    "\n",
    "            # x_path를 이용해 댓글 추출(좋아요 수가 10개가 넘을 때)\n",
    "            if int(like_num) >= 300:\n",
    "                date_list.append(driver.find_element_by_xpath(\"/html/body/div[2]/div[3]/div[1]/div/span/span[2]/span\").text) # 업로드 날짜\n",
    "                title_list.append(driver.find_element_by_xpath(\"/html/body/div[2]/div[3]/div[1]/div/h3\").text) # 제목\n",
    "                like_list.append(like_num.text)                                                                # 좋아요\n",
    "                \n",
    "                contents = driver.find_element_by_xpath('/html/body/div[2]/div[3]/div[2]/div[1]/div[2]/div[6]/div/div/div/div/div[3]/ul[2]/li[' +str(k)+']/div/p').text\n",
    "                contents = contents.replace('\\n',\" \")  # 줄 바꿈 무시\n",
    "#                 print(contents)\n",
    "                contents_list.append(contents)\n",
    "\n",
    "        except: pass\n",
    "    time.sleep(3)"
   ]
  },
  {
   "cell_type": "code",
   "execution_count": 18,
   "metadata": {},
   "outputs": [
    {
     "name": "stdout",
     "output_type": "stream",
     "text": [
      "[]\n",
      "['\"의협 파업? 정권타도 외치려고 공공의료 핑계댄 것\" [인터뷰]', '의사가 의사파업을 비판할 수밖에 없는 이유', '의사가 의사파업을 비판할 수밖에 없는 이유', '의사가 의사파업을 비판할 수밖에 없는 이유', '의사가 의사파업을 비판할 수밖에 없는 이유', '의사가 의사파업을 비판할 수밖에 없는 이유', '의사가 의사파업을 비판할 수밖에 없는 이유', '의사가 의사파업을 비판할 수밖에 없는 이유', '의사가 의사파업을 비판할 수밖에 없는 이유', '의사가 의사파업을 비판할 수밖에 없는 이유', '\"의협 파업? 정권타도 외치려고 공공의료 핑계댄 것\" [인터뷰]', '\"의협 파업? 정권타도 외치려고 공공의료 핑계댄 것\" [인터뷰]']\n",
      "[]\n"
     ]
    }
   ],
   "source": [
    "print(contents_list)\n",
    "print(title_list)\n",
    "#  print(date_list)\n",
    "print(like_list)"
   ]
  },
  {
   "cell_type": "code",
   "execution_count": 50,
   "metadata": {},
   "outputs": [],
   "source": [
    "for i in range(0, len(contents_list)):           # 날짜, 제목, 댓글, 좋아요 순으로 csv 파일에 write\n",
    "    f.write(\"{}, {}, {}, {}\\n\".format(date_list[i],title_list[i],contents_list[i],like_list[i]))"
   ]
  },
  {
   "cell_type": "code",
   "execution_count": null,
   "metadata": {},
   "outputs": [],
   "source": []
  }
 ],
 "metadata": {
  "kernelspec": {
   "display_name": "Python 3",
   "language": "python",
   "name": "python3"
  },
  "language_info": {
   "codemirror_mode": {
    "name": "ipython",
    "version": 3
   },
   "file_extension": ".py",
   "mimetype": "text/x-python",
   "name": "python",
   "nbconvert_exporter": "python",
   "pygments_lexer": "ipython3",
   "version": "3.7.6"
  }
 },
 "nbformat": 4,
 "nbformat_minor": 4
}
