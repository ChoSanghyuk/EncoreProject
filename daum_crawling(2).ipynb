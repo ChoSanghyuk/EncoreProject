{
 "cells": [
  {
   "cell_type": "code",
   "execution_count": 4,
   "metadata": {},
   "outputs": [],
   "source": [
    "from selenium import webdriver\n",
    "import requests\n",
    "from bs4 import BeautifulSoup as bs\n",
    "\n",
    "import pandas as pd\n",
    "import time"
   ]
  },
  {
   "cell_type": "code",
   "execution_count": 12,
   "metadata": {},
   "outputs": [],
   "source": [
    "def crawling(query):\n",
    "    daum_url_list = []\n",
    "    \n",
    "    url = 'https://search.daum.net/search?w=news&sort=recency&q='+query+'&cluster=n&DA=STC&dc=STC&pg=1&r=1&p=1&rc=1&at=more&sd=&ed=&period='\n",
    "    web = requests.get(url).content\n",
    "    source = bs(web,\"html.parser\")\n",
    "    \n",
    "    for urls in source.find_all('a',{'class':'f_link_b'}):\n",
    "        if urls['href'][-3:] == 'f=o':\n",
    "            upload_time = urls['href'][-21:-4]\n",
    "            daum_url = \"http://news.v.daum.net/v/\" + upload_time  # daum 뉴스 url 형식에 기사 업로드 시간 융합\n",
    "            daum_url_list.append(daum_url)\n",
    "    \n",
    "    print(daum_url_list)"
   ]
  },
  {
   "cell_type": "code",
   "execution_count": 13,
   "metadata": {},
   "outputs": [
    {
     "name": "stdout",
     "output_type": "stream",
     "text": [
      "['http://news.v.daum.net/v/20200921115502022', 'http://news.v.daum.net/v/20200921112614532', 'http://news.v.daum.net/v/20200921110328322', 'http://news.v.daum.net/v/20200921091037348']\n"
     ]
    }
   ],
   "source": [
    "crawling('공공의대')"
   ]
  },
  {
   "cell_type": "code",
   "execution_count": null,
   "metadata": {},
   "outputs": [],
   "source": [
    " def crawling(query):\n",
    "        \n",
    "    url = 'https://search.daum.net/search?w=news&sort=recency&q='+query+'&cluster=n&DA=STC&dc=STC&pg=1&r=1&p=1&rc=1&at=more&sd=&ed=&period='\n",
    "    web = requests.get(url).content\n",
    "    source = bs(web,\"html.parser\")\n",
    "    f = open('daum_crawling.csv','w',encoding='utf-8')\n",
    "\n",
    "    date_list = []            # 날짜\n",
    "    all_url_content = []      # 페이지에 있는 모든 뉴스 url 리스트\n",
    "    daum_url_list = []        # 다음뉴스의 url의 리스트\n",
    "    url_num = 10              # 추출할 url 수\n",
    "    page = 1                  # 페이지 넘기기\n",
    "\n",
    "\n",
    "    while len(daum_url_list) < url_num:\n",
    "        print(page)\n",
    "        page += 1\n",
    "        for urls in source.find_all('a',{'class' : 'f_link_b'}):\n",
    "            all_url_content.append(urls['href']) \n",
    "        for i in all_url_content:                                          # 무조건 다음뉴스의 url은 f=o으로 끝남\n",
    "            if i[-3:] == \"f=o\":\n",
    "                upload_time = i[-21:-4]                                     # 기사 업로드 시간만 슬라이싱\n",
    "\n",
    "    #             date = upload_time[:8]                                      # 업로드날짜\n",
    "    #             date_list.append(date)\n",
    "\n",
    "                daum_url = \"http://news.v.daum.net/v/\" + upload_time  # daum 뉴스 url 형식에 기사 업로드 시간 융합\n",
    "                daum_url_list.append(daum_url)\n",
    "                print(daum_url)\n",
    "        driver.find_element_by_xpath('/html/body/article/article/div/article/div/div[2]/div[1]/div[4]/span/span[2]/a['+str(page)+']').click()\n",
    "\n",
    "    # print(urls_list)"
   ]
  }
 ],
 "metadata": {
  "kernelspec": {
   "display_name": "Python 3",
   "language": "python",
   "name": "python3"
  },
  "language_info": {
   "codemirror_mode": {
    "name": "ipython",
    "version": 3
   },
   "file_extension": ".py",
   "mimetype": "text/x-python",
   "name": "python",
   "nbconvert_exporter": "python",
   "pygments_lexer": "ipython3",
   "version": "3.7.6"
  }
 },
 "nbformat": 4,
 "nbformat_minor": 4
}
